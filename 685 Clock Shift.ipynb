{
 "cells": [
  {
   "cell_type": "code",
   "execution_count": 1,
   "metadata": {},
   "outputs": [],
   "source": [
    "%matplotlib notebook\n",
    "import matplotlib.pyplot as plt\n",
    "from numpy import *\n",
    "\n",
    "from basics import *\n",
    "from rabi_frequencies import *\n",
    "from atomic_physics import *\n",
    "from hybrid_matrix_elements import *\n",
    "\n",
    "tau=2*pi"
   ]
  },
  {
   "cell_type": "code",
   "execution_count": 86,
   "metadata": {},
   "outputs": [],
   "source": [
    "electric_field = 1  # unity\n",
    "frequency = 437.598*1e12  # 684nm frequency\n",
    "epol = SphericalVector([0,1,1j]/sqrt(2),spherical_basis=False)  # z-y-polarized\n",
    "kpol = SphericalVector([1,0,0],spherical_basis=False)  # x-polarized\n",
    "\n",
    "rme4fp = lambda fp: q_rme_hf_h(q_rad_int,fp)\n",
    "\n",
    "rme3fp = lambda fp: quadrupole_rme_hf(\n",
    "    q_rme_fs_h(q_rad_int),\n",
    "    1/2,\n",
    "    3,\n",
    "    5/2,\n",
    "    fp,\n",
    "    7/2\n",
    ")\n",
    "\n",
    "QQ4 = lambda fp,mf: quadrupole_rabi_frequency(\n",
    "    electric_field,\n",
    "    frequency,\n",
    "    epol,\n",
    "    kpol,\n",
    "    rme4fp(fp),\n",
    "    4,\n",
    "    0,\n",
    "    fp,\n",
    "    mf\n",
    ")\n",
    "\n",
    "\n",
    "QQ3 = lambda fp,mf: quadrupole_rabi_frequency(\n",
    "    electric_field,\n",
    "    frequency,\n",
    "    epol,\n",
    "    kpol,\n",
    "    rme3fp(fp),\n",
    "    3,\n",
    "    0,\n",
    "    fp,\n",
    "    mf\n",
    ")\n",
    "\n",
    "detunings = DHF+tau*80e6\n",
    "D4fp = lambda fp: detunings[fp]\n",
    "D3fp = lambda fp: detunings[fp]+tau*9.192631770e9"
   ]
  },
  {
   "cell_type": "code",
   "execution_count": 87,
   "metadata": {},
   "outputs": [],
   "source": [
    "alpha4 = 0\n",
    "alpha3 = 0\n",
    "\n",
    "for fp in [6,5,4,3,2]:\n",
    "    for mf in [-1,0,1]:\n",
    "        QQ = QQ4(fp,mf)\n",
    "        alpha4 += -abs(QQ)**2/D4fp(fp)\n",
    "\n",
    "for fp in [5,4,3,2,1]:\n",
    "    for mf in [-1,0,1]:\n",
    "        QQ = QQ3(fp,mf)\n",
    "        alpha3 += -abs(QQ)**2/D3fp(fp)"
   ]
  },
  {
   "cell_type": "code",
   "execution_count": 88,
   "metadata": {},
   "outputs": [],
   "source": [
    "def Dac(alpha,p,w):\n",
    "    \"\"\"\n",
    "    Computes AC stark shift on a state induced by a beam with power and waist p,w\n",
    "    Args:\n",
    "        alpha: Polarizability of state\n",
    "        p: power of beam (W)\n",
    "        w: waist of beam (m)\n",
    "    Return:\n",
    "        Delta_AC: in period frequency, MHz\n",
    "    \"\"\"\n",
    "    E = electric_field_strength(p,w)\n",
    "    return(-1/4*alpha*E**2/tau*1e-6)\n",
    "\n",
    "def Dac_e(alpha):\n",
    "    return -1/4*alpha/tau"
   ]
  },
  {
   "cell_type": "code",
   "execution_count": 89,
   "metadata": {},
   "outputs": [],
   "source": [
    "p = 67e-3\n",
    "w = 9e-6\n",
    "\n",
    "Dac4 = Dac(alpha4,p,w)\n",
    "Dac3 = Dac(alpha3,p,w)"
   ]
  },
  {
   "cell_type": "code",
   "execution_count": 90,
   "metadata": {},
   "outputs": [
    {
     "name": "stdout",
     "output_type": "stream",
     "text": [
      "1.3186239281335788\n"
     ]
    }
   ],
   "source": [
    "clock_shift = Dac4-Dac3\n",
    "print(clock_shift)"
   ]
  },
  {
   "cell_type": "code",
   "execution_count": 83,
   "metadata": {},
   "outputs": [
    {
     "data": {
      "text/plain": [
       "3.3234598980516098e-06"
      ]
     },
     "execution_count": 83,
     "metadata": {},
     "output_type": "execute_result"
    }
   ],
   "source": [
    "Dac_e(alpha4)-Dac_e(alpha3)"
   ]
  },
  {
   "cell_type": "code",
   "execution_count": 84,
   "metadata": {},
   "outputs": [],
   "source": [
    "P = 68e-3\n",
    "\n",
    "dclock = tau*0.63e6\n",
    "diff_clock = alpha4-alpha3\n",
    "Esquared = 4*dclock/diff_clock\n",
    "I = abs(Esquared*c*eps/2)  # W/m"
   ]
  },
  {
   "cell_type": "code",
   "execution_count": 85,
   "metadata": {},
   "outputs": [
    {
     "data": {
      "text/plain": [
       "13.117460523267363"
      ]
     },
     "execution_count": 85,
     "metadata": {},
     "output_type": "execute_result"
    }
   ],
   "source": [
    "w0est = sqrt(2*P/pi/I)\n",
    "w0est*1e6  # um"
   ]
  },
  {
   "cell_type": "code",
   "execution_count": 42,
   "metadata": {},
   "outputs": [
    {
     "data": {
      "text/plain": [
       "7.180024904787878e-05"
      ]
     },
     "execution_count": 42,
     "metadata": {},
     "output_type": "execute_result"
    }
   ],
   "source": [
    "1/(I/10000/350**2/4*400e3)"
   ]
  },
  {
   "cell_type": "code",
   "execution_count": 73,
   "metadata": {},
   "outputs": [
    {
     "data": {
      "text/plain": [
       "(-0.5142067307646193+0j)"
      ]
     },
     "execution_count": 73,
     "metadata": {},
     "output_type": "execute_result"
    }
   ],
   "source": [
    "(QQ4(6,-1)*electric_field_strength(p,15.8e-6)*1e-6/tau)**2/(4*80)"
   ]
  },
  {
   "cell_type": "code",
   "execution_count": 74,
   "metadata": {},
   "outputs": [
    {
     "data": {
      "text/plain": [
       "(-0.22625096153643232+0j)"
      ]
     },
     "execution_count": 74,
     "metadata": {},
     "output_type": "execute_result"
    }
   ],
   "source": [
    "(QQ4(5,-1)*electric_field_strength(p,15.8e-6)*1e-6/tau)**2/(4*80)"
   ]
  },
  {
   "cell_type": "code",
   "execution_count": 75,
   "metadata": {},
   "outputs": [
    {
     "data": {
      "text/plain": [
       "(-0.16622519623084825+0j)"
      ]
     },
     "execution_count": 75,
     "metadata": {},
     "output_type": "execute_result"
    }
   ],
   "source": [
    "(QQ3(5,-1)*electric_field_strength(p,15.8e-6)*1e-6/tau)**2/(4*80)"
   ]
  },
  {
   "cell_type": "code",
   "execution_count": 76,
   "metadata": {},
   "outputs": [
    {
     "data": {
      "text/plain": [
       "-12.827554476387078j"
      ]
     },
     "execution_count": 76,
     "metadata": {},
     "output_type": "execute_result"
    }
   ],
   "source": [
    "QQ4(6,-1)*electric_field_strength(p,15.8e-6)*1e-6/tau"
   ]
  },
  {
   "cell_type": "code",
   "execution_count": 77,
   "metadata": {},
   "outputs": [
    {
     "data": {
      "text/plain": [
       "-25.33442009086448j"
      ]
     },
     "execution_count": 77,
     "metadata": {},
     "output_type": "execute_result"
    }
   ],
   "source": [
    "QQ4(6,-1)*electric_field_strength(p,8e-6)*1e-6/tau"
   ]
  },
  {
   "cell_type": "code",
   "execution_count": null,
   "metadata": {},
   "outputs": [],
   "source": []
  }
 ],
 "metadata": {
  "kernelspec": {
   "display_name": "Python 3",
   "language": "python",
   "name": "python3"
  },
  "language_info": {
   "codemirror_mode": {
    "name": "ipython",
    "version": 3
   },
   "file_extension": ".py",
   "mimetype": "text/x-python",
   "name": "python",
   "nbconvert_exporter": "python",
   "pygments_lexer": "ipython3",
   "version": "3.8.6"
  }
 },
 "nbformat": 4,
 "nbformat_minor": 4
}
