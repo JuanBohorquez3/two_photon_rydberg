{
 "cells": [
  {
   "cell_type": "code",
   "execution_count": 1,
   "metadata": {},
   "outputs": [],
   "source": [
    "%matplotlib notebook\n",
    "import matplotlib.pyplot as plt\n",
    "from numpy import *\n",
    "\n",
    "from basics import *\n",
    "from rabi_frequencies import *\n",
    "from atomic_physics import *\n",
    "from hybrid_matrix_elements import *\n",
    "\n",
    "tau=2*pi"
   ]
  },
  {
   "cell_type": "code",
   "execution_count": 4,
   "metadata": {},
   "outputs": [],
   "source": [
    "electric_field = 1  # unity\n",
    "frequency = 437.598*1e12  # 684nm frequency\n",
    "epol = SphericalVector([1,0,0])  # z-polarized\n",
    "kpol = SphericalVector([1,0,0],spherical_basis=False)  # x-polarized\n",
    "\n",
    "rme4fp = lambda fp: q_rme_hf_h(q_rad_int,fp)\n",
    "\n",
    "rme3fp = lambda fp: quadrupole_rme_hf(\n",
    "    q_rme_fs_h(q_rad_int),\n",
    "    1/2,\n",
    "    3,\n",
    "    5/2,\n",
    "    fp,\n",
    "    7/2\n",
    ")\n",
    "\n",
    "QQ4 = lambda fp,mf: quadrupole_rabi_frequency(\n",
    "    electric_field,\n",
    "    frequency,\n",
    "    epol,\n",
    "    kpol,\n",
    "    rme4fp(fp),\n",
    "    4,\n",
    "    0,\n",
    "    fp,\n",
    "    mf\n",
    ")\n",
    "\n",
    "\n",
    "QQ3 = lambda fp,mf: quadrupole_rabi_frequency(\n",
    "    electric_field,\n",
    "    frequency,\n",
    "    epol,\n",
    "    kpol,\n",
    "    rme3fp(fp),\n",
    "    3,\n",
    "    0,\n",
    "    fp,\n",
    "    mf\n",
    ")\n",
    "\n",
    "detunings = DHF-tau*80e6\n",
    "D4fp = lambda fp: detunings[fp]\n",
    "D3fp = lambda fp: detunings[fp]+tau*9.192631770e9"
   ]
  },
  {
   "cell_type": "code",
   "execution_count": 5,
   "metadata": {},
   "outputs": [],
   "source": [
    "alpha4 = 0\n",
    "alpha3 = 0\n",
    "\n",
    "for fp in [6,5,4,3,2]:\n",
    "    for mf in [-1,1]:\n",
    "        QQ = QQ4(fp,mf)\n",
    "        alpha4 += -abs(QQ)**2/D4fp(fp)\n",
    "\n",
    "for fp in [5,4,3,2,1]:\n",
    "    for mf in [-1,1]:\n",
    "        QQ = QQ3(fp,mf)\n",
    "        alpha3 += -abs(QQ)**2/D3fp(fp)"
   ]
  },
  {
   "cell_type": "code",
   "execution_count": 41,
   "metadata": {},
   "outputs": [],
   "source": [
    "def Dac(alpha,p,w):\n",
    "    \"\"\"\n",
    "    Computes AC stark shift on a state induced by a beam with power and waist p,w\n",
    "    Args:\n",
    "        alpha: Polarizability of state\n",
    "        p: power of beam\n",
    "        w: waist of beam\n",
    "    Return:\n",
    "        Delta_AC: in period frequency, MHz\n",
    "    \"\"\"\n",
    "    E = electric_field_strength(p,w)\n",
    "    return(-1/4*alpha*E**2/tau*1e-6)\n",
    "\n",
    "def Dac_e(alpha):\n",
    "    return -1/4*alpha/tau"
   ]
  },
  {
   "cell_type": "code",
   "execution_count": 19,
   "metadata": {},
   "outputs": [],
   "source": [
    "p = 112e-3\n",
    "w = 9e-6\n",
    "\n",
    "Dac4 = Dac(alpha4,p,w)\n",
    "Dac3 = Dac(alpha3,p,w)"
   ]
  },
  {
   "cell_type": "code",
   "execution_count": 21,
   "metadata": {},
   "outputs": [
    {
     "name": "stdout",
     "output_type": "stream",
     "text": [
      "-0.4871495571651449\n"
     ]
    }
   ],
   "source": [
    "clock_shift = Dac4-Dac3\n",
    "print(clock_shift)"
   ]
  },
  {
   "cell_type": "code",
   "execution_count": 23,
   "metadata": {},
   "outputs": [
    {
     "data": {
      "text/plain": [
       "-7.344945584146587e-13"
      ]
     },
     "execution_count": 23,
     "metadata": {},
     "output_type": "execute_result"
    }
   ],
   "source": [
    "Dac_e(alpha4)-Dac_e(alpha3)"
   ]
  },
  {
   "cell_type": "code",
   "execution_count": 55,
   "metadata": {},
   "outputs": [],
   "source": [
    "dclock = tau*0.192e6\n",
    "diff_clock = alpha4-alpha3\n",
    "Esquared = 4*dclock/diff_clock\n",
    "I = Esquared*c*eps/2  # W/m"
   ]
  },
  {
   "cell_type": "code",
   "execution_count": 56,
   "metadata": {},
   "outputs": [
    {
     "data": {
      "text/plain": [
       "14.33583689322132"
      ]
     },
     "execution_count": 56,
     "metadata": {},
     "output_type": "execute_result"
    }
   ],
   "source": [
    "w0est = sqrt(2*P/pi/I)\n",
    "w0est*1e6  # um"
   ]
  },
  {
   "cell_type": "code",
   "execution_count": 70,
   "metadata": {},
   "outputs": [
    {
     "data": {
      "text/plain": [
       "3.53088884067411e-05"
      ]
     },
     "execution_count": 70,
     "metadata": {},
     "output_type": "execute_result"
    }
   ],
   "source": [
    "1/(I/10000/350**2/4*400e3)"
   ]
  },
  {
   "cell_type": "code",
   "execution_count": null,
   "metadata": {},
   "outputs": [],
   "source": []
  }
 ],
 "metadata": {
  "kernelspec": {
   "display_name": "Python 3",
   "language": "python",
   "name": "python3"
  },
  "language_info": {
   "codemirror_mode": {
    "name": "ipython",
    "version": 3
   },
   "file_extension": ".py",
   "mimetype": "text/x-python",
   "name": "python",
   "nbconvert_exporter": "python",
   "pygments_lexer": "ipython3",
   "version": "3.8.10"
  }
 },
 "nbformat": 4,
 "nbformat_minor": 4
}
